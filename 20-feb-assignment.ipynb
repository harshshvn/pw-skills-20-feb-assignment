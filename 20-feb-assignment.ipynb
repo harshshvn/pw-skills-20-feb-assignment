{
 "cells": [
  {
   "cell_type": "markdown",
   "id": "a72a8515-5a4d-46db-9fae-78f578a5a3db",
   "metadata": {},
   "source": [
    "Q1\n"
   ]
  },
  {
   "cell_type": "markdown",
   "id": "b1d15973-b163-4aa5-9bbe-5f29e31252de",
   "metadata": {},
   "source": [
    "The GET method is part of the python requests module which is used to obtain data from a web URL\n",
    "\n",
    "The POST method is used to send data mostly through a form to the server for creating or updating data in the server. The requests module provides us with post method which can directly send the data by taking the URL and value of the data parameter."
   ]
  },
  {
   "cell_type": "markdown",
   "id": "5f743d8a-9f23-4295-9b3d-742d3d4ac6f3",
   "metadata": {},
   "source": [
    "Q2"
   ]
  },
  {
   "cell_type": "markdown",
   "id": "452fcf18-823d-4997-8893-8553a742925c",
   "metadata": {},
   "source": [
    " The Request, in Flask, is an object that contains all the data sent from the Client to Server. This data can be recovered using the GET/POST Methods.The request context keeps track of the request-level data during a request. Rather than passing the request object to each function that runs during a reques\n",
    " "
   ]
  },
  {
   "cell_type": "markdown",
   "id": "1ba165c5-e897-4c8e-b366-eca9e1d21804",
   "metadata": {},
   "source": [
    "Q3\n"
   ]
  },
  {
   "cell_type": "markdown",
   "id": "60b8e253-2849-42b9-9259-6fa1428afe75",
   "metadata": {},
   "source": [
    "Flask class provides the redirect() function which redirects the user to some specified URL with the specified status code.\n"
   ]
  },
  {
   "cell_type": "markdown",
   "id": "73dc05d0-3e63-4048-bc12-a023fd8d6d92",
   "metadata": {},
   "source": [
    "Q4"
   ]
  },
  {
   "cell_type": "markdown",
   "id": "908ebb9b-9ddb-4ece-bbf0-72fe61400bf8",
   "metadata": {},
   "source": [
    "Templates are files that contain static data as well as placeholders for dynamic data. A template is rendered with specific data to produce a final document.\n",
    "\n",
    "It basically allows creating web applications in a Pythonic syntax and concepts. With Flask, we can use Python libraries and tools in our web applications. Using Flask we can set up a webserver to load up some basic HTML templates along with Jinja2 templating syntax.\n"
   ]
  },
  {
   "cell_type": "markdown",
   "id": "bfcd4e8e-934c-432a-8e32-ce7a4e87fbaf",
   "metadata": {},
   "source": [
    "Q5\n"
   ]
  },
  {
   "cell_type": "code",
   "execution_count": null,
   "id": "0b7f0af0-a17c-4b04-b310-3b347eebbe94",
   "metadata": {},
   "outputs": [],
   "source": []
  }
 ],
 "metadata": {
  "kernelspec": {
   "display_name": "Python 3 (ipykernel)",
   "language": "python",
   "name": "python3"
  },
  "language_info": {
   "codemirror_mode": {
    "name": "ipython",
    "version": 3
   },
   "file_extension": ".py",
   "mimetype": "text/x-python",
   "name": "python",
   "nbconvert_exporter": "python",
   "pygments_lexer": "ipython3",
   "version": "3.10.8"
  }
 },
 "nbformat": 4,
 "nbformat_minor": 5
}
